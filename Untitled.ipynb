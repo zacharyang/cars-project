{
 "cells": [
  {
   "cell_type": "code",
   "execution_count": 1,
   "metadata": {
    "collapsed": true
   },
   "outputs": [],
   "source": [
    "import matplotlib.pyplot as plt\n",
    "import numpy as np\n",
    "import pandas as pd\n",
    "import seaborn as sns\n",
    "import datetime\n",
    "import json\n",
    "import re\n",
    "import requests as rq\n",
    "from bs4 import BeautifulSoup\n",
    "import settings\n",
    "\n",
    "sns.set_style(\"whitegrid\")\n",
    "\n",
    "%matplotlib inline\n",
    "%config InlineBackend.figure_format = 'retina'"
   ]
  },
  {
   "cell_type": "code",
   "execution_count": 28,
   "metadata": {},
   "outputs": [],
   "source": [
    "\n",
    "def collect_latest_listings(car_types):\n",
    "\n",
    "\n",
    "    ## Initialise the dictionary to store the car information ## \n",
    "\n",
    "    car_dat= { 'list_queries':[],\n",
    "                'list_ids':[],\n",
    "                'dealer_ids':[],\n",
    "                'query_urls':[],\n",
    "\n",
    "            }\n",
    "    for car in car_types:\n",
    "        # Get 100 results per page # \n",
    "        counter=0\n",
    "        url='https://www.sgcarmart.com/used_cars/listing.php?BRSR={}&RPG=100&AVL=2&VEH={}'.format(counter,settings.CAR_REF[car])\n",
    "        r=rq.get(url)\n",
    "        while r.status_code != 200:\n",
    "            print('Bad Response. Trying again in 1 minute.')\n",
    "            time.sleep(60)\n",
    "            r=rq.get(url)\n",
    "        \n",
    "\n",
    "        soup=BeautifulSoup(r.text,'lxml')\n",
    "        pagebar=soup.find_all(name='span',attrs={'class':'pagebar'})\n",
    "\n",
    "        query_url = 'https://www.sgcarmart.com/used_cars/'\n",
    "\n",
    "        while len(pagebar)>0:\n",
    "            r=rq.get(url)\n",
    "            print(url)\n",
    "            while r.status_code != 200:\n",
    "                print('Bad Response. Trying again in 1 minute.')\n",
    "                time.sleep(60)\n",
    "                r=rq.get(url)\n",
    "            \n",
    "            soup=BeautifulSoup(r.text,'lxml')\n",
    "            pagebar=soup.find_all(name='span',attrs={'class':'pagebar'})\n",
    "\n",
    "            # Find all links in bold # \n",
    "            strong=soup.find_all(name='strong')\n",
    "            list_queries=[x.a.get('href') for x in strong if x.a != None and x.a.get('href')[:11]=='info.php?ID']\n",
    "            car_dat['list_queries']+=list_queries\n",
    "            car_dat['list_ids']+=[re.split(r\"[^a-zA-Z0-9\\s]\",x)[3] for x in list_queries]\n",
    "            car_dat['dealer_ids']+=[re.split(r\"[^a-zA-Z0-9\\s]\",x)[5] for x in list_queries]\n",
    "            car_dat['query_urls']+=[query_url+x for x in list_queries]\n",
    "            \n",
    "            counter+=100\n",
    "            url='https://www.sgcarmart.com/used_cars/listing.php?BRSR={}&RPG=100&AVL=2&VEH={}'.format(counter,settings.CAR_REF[car])\n",
    "        print('{} {} collected'.format(counter,car))\n",
    "\n",
    "    return car_dat\n",
    "\n",
    "\n",
    "def update_master(listings,master):\n",
    "\n",
    "    keep_ind=[i for i,a in enumerate(listings['query_urls']) if a not in master['query_urls']]\n",
    "    if len(keep_ind)==0:\n",
    "        print('No new listings for {}'.format(datetime.datetime.now()))\n",
    "        return None, None\n",
    "    else:\n",
    "        print('Adding {} new listings to master data'.format(len(keep_ind)))\n",
    "        new_master={}\n",
    "        new_listings={}\n",
    "        for k in listings.keys():\n",
    "            new_listings[k]=[listings[k][i] for i in keep_ind]\n",
    "            new_master[k]=master[k]+new_listings[k]\n",
    "\n",
    "    return new_listings,new_master"
   ]
  },
  {
   "cell_type": "code",
   "execution_count": 29,
   "metadata": {},
   "outputs": [
    {
     "name": "stdout",
     "output_type": "stream",
     "text": [
      "https://www.sgcarmart.com/used_cars/listing.php?BRSR=0&RPG=100&AVL=2&VEH=12\n",
      "https://www.sgcarmart.com/used_cars/listing.php?BRSR=100&RPG=100&AVL=2&VEH=12\n",
      "https://www.sgcarmart.com/used_cars/listing.php?BRSR=200&RPG=100&AVL=2&VEH=12\n",
      "https://www.sgcarmart.com/used_cars/listing.php?BRSR=300&RPG=100&AVL=2&VEH=12\n",
      "https://www.sgcarmart.com/used_cars/listing.php?BRSR=400&RPG=100&AVL=2&VEH=12\n",
      "https://www.sgcarmart.com/used_cars/listing.php?BRSR=500&RPG=100&AVL=2&VEH=12\n",
      "https://www.sgcarmart.com/used_cars/listing.php?BRSR=600&RPG=100&AVL=2&VEH=12\n",
      "https://www.sgcarmart.com/used_cars/listing.php?BRSR=700&RPG=100&AVL=2&VEH=12\n",
      "https://www.sgcarmart.com/used_cars/listing.php?BRSR=800&RPG=100&AVL=2&VEH=12\n",
      "https://www.sgcarmart.com/used_cars/listing.php?BRSR=900&RPG=100&AVL=2&VEH=12\n",
      "https://www.sgcarmart.com/used_cars/listing.php?BRSR=1000&RPG=100&AVL=2&VEH=12\n",
      "https://www.sgcarmart.com/used_cars/listing.php?BRSR=1100&RPG=100&AVL=2&VEH=12\n",
      "https://www.sgcarmart.com/used_cars/listing.php?BRSR=1200&RPG=100&AVL=2&VEH=12\n",
      "https://www.sgcarmart.com/used_cars/listing.php?BRSR=1300&RPG=100&AVL=2&VEH=12\n",
      "https://www.sgcarmart.com/used_cars/listing.php?BRSR=1400&RPG=100&AVL=2&VEH=12\n",
      "https://www.sgcarmart.com/used_cars/listing.php?BRSR=1500&RPG=100&AVL=2&VEH=12\n",
      "https://www.sgcarmart.com/used_cars/listing.php?BRSR=1600&RPG=100&AVL=2&VEH=12\n",
      "https://www.sgcarmart.com/used_cars/listing.php?BRSR=1700&RPG=100&AVL=2&VEH=12\n",
      "https://www.sgcarmart.com/used_cars/listing.php?BRSR=1800&RPG=100&AVL=2&VEH=12\n",
      "https://www.sgcarmart.com/used_cars/listing.php?BRSR=1900&RPG=100&AVL=2&VEH=12\n",
      "https://www.sgcarmart.com/used_cars/listing.php?BRSR=2000&RPG=100&AVL=2&VEH=12\n",
      "https://www.sgcarmart.com/used_cars/listing.php?BRSR=2100&RPG=100&AVL=2&VEH=12\n",
      "https://www.sgcarmart.com/used_cars/listing.php?BRSR=2200&RPG=100&AVL=2&VEH=12\n",
      "2300 Luxury Sedan collected\n",
      "Adding 115 new listings to master data\n"
     ]
    }
   ],
   "source": [
    "listing_data=collect_latest_listings(['Luxury Sedan'])\n",
    "\n",
    "with open('./data/master/listing_data_master.json', 'r') as file:\n",
    "    master=json.load(file)\n",
    "    file.close()\n",
    "\n",
    "new_listings,updated_master=update_master(listing_data,master)\n",
    "\n",
    "# if updated_master is not None:\n",
    "\n",
    "#     with open('./data/master/listing_data_master.json', 'w') as outfile:\n",
    "#         json.dump(updated_master,outfile)\n",
    "#     with open('./data/cache/new_listings_{}-{}.json'.format(datetime.datetime.now().day,datetime.datetime.now().month),'w') as outfile:\n",
    "#         json.dump(new_listings,outfile)\n",
    "# else:\n",
    "#     print('No new listings, master not updated.')"
   ]
  },
  {
   "cell_type": "code",
   "execution_count": 30,
   "metadata": {},
   "outputs": [
    {
     "data": {
      "text/plain": [
       "0"
      ]
     },
     "execution_count": 30,
     "metadata": {},
     "output_type": "execute_result"
    }
   ],
   "source": [
    "len(updated_master['query_urls'])-len(master['query_urls'])-len(new_listings['query_urls'])"
   ]
  },
  {
   "cell_type": "code",
   "execution_count": 15,
   "metadata": {},
   "outputs": [],
   "source": [
    "keep_ind=[i for i,a in enumerate(listing_data['query_urls']) if a not in master['query_urls']]\n",
    "new_master={}\n",
    "new_listings={}\n",
    "for k in listing_data.keys():\n",
    "    new_listings[k]=[listing_data[k][i] for i in keep_ind]\n",
    "    new_master[k]=master[k]+new_listings[k]"
   ]
  },
  {
   "cell_type": "code",
   "execution_count": 19,
   "metadata": {},
   "outputs": [
    {
     "data": {
      "text/plain": [
       "115"
      ]
     },
     "execution_count": 19,
     "metadata": {},
     "output_type": "execute_result"
    }
   ],
   "source": [
    "len(new_listings['query_urls'])"
   ]
  },
  {
   "cell_type": "code",
   "execution_count": 49,
   "metadata": {},
   "outputs": [],
   "source": [
    "keep_ind=[i for i,a in enumerate(listing_data['query_urls']) if a not in master['query_urls']]"
   ]
  },
  {
   "cell_type": "code",
   "execution_count": 52,
   "metadata": {},
   "outputs": [
    {
     "data": {
      "text/plain": [
       "115"
      ]
     },
     "execution_count": 52,
     "metadata": {},
     "output_type": "execute_result"
    }
   ],
   "source": [
    "len([listing_data['query_urls'][i] for i in keep_ind])"
   ]
  },
  {
   "cell_type": "code",
   "execution_count": 36,
   "metadata": {},
   "outputs": [
    {
     "data": {
      "text/plain": [
       "24522"
      ]
     },
     "execution_count": 36,
     "metadata": {},
     "output_type": "execute_result"
    }
   ],
   "source": [
    "# len(updated_master['dealer_ids'])\n",
    "len(master['dealer_ids'])"
   ]
  },
  {
   "cell_type": "code",
   "execution_count": 32,
   "metadata": {
    "collapsed": true
   },
   "outputs": [],
   "source": [
    "with open ('./data/master/car_data_master.json','r') as file:\n",
    "    c=json.load(file)\n",
    "    file.close()\n"
   ]
  },
  {
   "cell_type": "code",
   "execution_count": 44,
   "metadata": {},
   "outputs": [],
   "source": [
    "for car in c:\n",
    "    if car is not None:\n",
    "        car['date_of_listing']= datetime.datetime.now().strftime('%d-%m-%Y')"
   ]
  },
  {
   "cell_type": "code",
   "execution_count": 40,
   "metadata": {},
   "outputs": [
    {
     "data": {
      "text/plain": [
       "[None, None, None, None]"
      ]
     },
     "execution_count": 40,
     "metadata": {},
     "output_type": "execute_result"
    }
   ],
   "source": [
    "[i for i in c if i is None]"
   ]
  },
  {
   "cell_type": "code",
   "execution_count": 45,
   "metadata": {},
   "outputs": [],
   "source": [
    "with open ('./data/master/car_data_master.json','w') as outfile:\n",
    "    json.dump(c,outfile)\n"
   ]
  },
  {
   "cell_type": "code",
   "execution_count": 46,
   "metadata": {
    "collapsed": true
   },
   "outputs": [],
   "source": [
    "latest_listings_fp='./data/cache/new_listings_{}-{}.json'.format(datetime.datetime.now().day,datetime.datetime.now().month)\n",
    "\n",
    "\n",
    "try:\n",
    "\n",
    "    with open (latest_listings_fp,'r') as file:\n",
    "        d=json.load(file)\n",
    "        file.close()\n",
    "\n",
    "except FileNotFoundError:\n",
    "    print('No new cars, master data not updated.')\n",
    "    exit()"
   ]
  },
  {
   "cell_type": "code",
   "execution_count": 49,
   "metadata": {},
   "outputs": [
    {
     "data": {
      "text/plain": [
       "9386"
      ]
     },
     "execution_count": 49,
     "metadata": {},
     "output_type": "execute_result"
    }
   ],
   "source": [
    "len(d['query_urls'])"
   ]
  },
  {
   "cell_type": "code",
   "execution_count": null,
   "metadata": {
    "collapsed": true
   },
   "outputs": [],
   "source": []
  }
 ],
 "metadata": {
  "kernelspec": {
   "display_name": "Python 3",
   "language": "python",
   "name": "python3"
  },
  "language_info": {
   "codemirror_mode": {
    "name": "ipython",
    "version": 3
   },
   "file_extension": ".py",
   "mimetype": "text/x-python",
   "name": "python",
   "nbconvert_exporter": "python",
   "pygments_lexer": "ipython3",
   "version": "3.6.2"
  }
 },
 "nbformat": 4,
 "nbformat_minor": 2
}
